{
 "cells": [
  {
   "cell_type": "code",
   "execution_count": 1,
   "metadata": {
    "collapsed": false
   },
   "outputs": [],
   "source": [
    "from __future__ import division\n",
    "\n",
    "import numpy as np\n",
    "import matplotlib.pylab as plt\n",
    "from scipy.ndimage.filters import median_filter\n",
    "\n",
    "import tvdip\n",
    "import mfblp\n",
    "\n",
    "np.random.seed(42)\n",
    "%matplotlib inline\n",
    "\n",
    "%reload_ext autoreload\n",
    "%autoreload 1"
   ]
  },
  {
   "cell_type": "markdown",
   "metadata": {},
   "source": [
    "## Piecewise constant signal (PWC) denoising\n",
    "This notebook provides examples of several different methods for denoising piecewise constant signals. The methods used are:\n",
    "- moving average\n",
    "- moving median\n",
    "- moving median with conjugate laplace prior\n",
    "- total variance scaling (a method seeking to jointly minimize the L-1 first differences of the smoothed signal $m$ and the L-2 squared residuals of the smoothed signal $m$ from the noisy signal $x$; see M.A. Little, Nick S. Jones (2010) \"Sparse Bayesian Step-Filtering for High-Throughput Analysis of Molecular Machine Dynamics\")"
   ]
  },
  {
   "cell_type": "markdown",
   "metadata": {},
   "source": [
    "### Defining a nosiy signal $x$"
   ]
  },
  {
   "cell_type": "code",
   "execution_count": 2,
   "metadata": {
    "collapsed": false
   },
   "outputs": [
    {
     "data": {
      "image/png": "[encoded data removed]",
      "text/plain": [
       "<matplotlib.figure.Figure at 0x10902e650>"
      ]
     },
     "metadata": {},
     "output_type": "display_data"
    }
   ],
   "source": [
    "N = 10\n",
    "\n",
    "xs = np.arange(N)\n",
    "ys = np.random.rand(N)\n",
    "\n",
    "plt.figure(figsize=(12,8), dpi=300)\n",
    "plt.ylim([ys.min() - 1, ys.max() + 1])\n",
    "for x,y in zip(xs, ys) :\n",
    "    plt.plot([x,x+1],[y,y])\n",
    "plt.title('Raw piecewise events')\n",
    "plt.savefig('events.png')\n",
    "plt.show()"
   ]
  },
  {
   "cell_type": "code",
   "execution_count": 3,
   "metadata": {
    "collapsed": false
   },
   "outputs": [],
   "source": [
    "sample_freq = 1000\n",
    "noise_factor = 0.1\n",
    "\n",
    "signal = np.array(sum([[y] * sample_freq for y in ys], []))\n",
    "srange = signal.max() - signal.min()\n",
    "noise = np.random.normal(0, srange * noise_factor, size=signal.shape)\n",
    "nsignal = signal + noise"
   ]
  },
  {
   "cell_type": "code",
   "execution_count": null,
   "metadata": {
    "collapsed": false
   },
   "outputs": [],
   "source": [
    "plt.figure(figsize=(12,8), dpi=300)\n",
    "plt.plot(signal, color='k', alpha=1.0, linewidth=2, label='True signal')\n",
    "plt.plot(nsignal, color='b', alpha=0.1, linewidth=1, label='Noisy signal')\n",
    "plt.legend()\n",
    "plt.savefig('noised-events.png')\n",
    "plt.show()"
   ]
  },
  {
   "cell_type": "markdown",
   "metadata": {},
   "source": [
    "### Moving average"
   ]
  },
  {
   "cell_type": "code",
   "execution_count": null,
   "metadata": {
    "collapsed": false
   },
   "outputs": [],
   "source": [
    "def moving_average(a, n=3) :\n",
    "    ret = np.cumsum(a, dtype=float)\n",
    "    ret[n:] = ret[n:] - ret[:-n]\n",
    "    return ret[n - 1:] / n\n",
    "\n",
    "mov_avg_sizes = [3,5,15,35,71,141,299]\n",
    "mov_avgs = map(lambda s : moving_average(nsignal, s), mov_avg_sizes)\n",
    "\n",
    "plt.figure(figsize=(12,8),dpi=300)\n",
    "plt.plot(nsignal, color='b', alpha=0.1, linewidth=1, label='Noisy signal')\n",
    "plt.plot(signal, color='k', alpha=1.0, linewidth=2, label='True signal')\n",
    "for ma, si in zip(mov_avgs, mov_avg_sizes) :\n",
    "    plt.plot(ma, alpha=0.4, label='w={}'.format(si))\n",
    "plt.legend(loc=2)\n",
    "plt.savefig('mov_avg.png')\n",
    "plt.show()"
   ]
  },
  {
   "cell_type": "markdown",
   "metadata": {},
   "source": [
    "### Median filter"
   ]
  },
  {
   "cell_type": "code",
   "execution_count": null,
   "metadata": {
    "collapsed": false
   },
   "outputs": [],
   "source": [
    "median_sizes = [5,15,35,71,141,299]\n",
    "medians = map(lambda s : median_filter(nsignal, s), median_sizes)\n",
    "\n",
    "plt.figure(figsize=(12,8),dpi=300)\n",
    "plt.plot(nsignal, color='b', alpha=0.1, linewidth=1, label='Noisy signal')\n",
    "plt.plot(signal, color='k', alpha=1.0, linewidth=2, label='True signal')\n",
    "for ma, si in zip(medians, median_sizes) :\n",
    "    plt.plot(ma, alpha=0.4, label='w={}'.format(si))\n",
    "plt.legend(loc=2)\n",
    "plt.savefig('median_filter.png')\n",
    "plt.show()"
   ]
  },
  {
   "cell_type": "markdown",
   "metadata": {},
   "source": [
    "### Total variance denoising"
   ]
  },
  {
   "cell_type": "code",
   "execution_count": null,
   "metadata": {
    "collapsed": false
   },
   "outputs": [],
   "source": [
    "lambdas = np.array([1, 2, 10, 100, 1000])\n",
    "x, E, s, lmax = tvdip.tvdip(nsignal.reshape(nsignal.shape[0], 1), lambdas, display=0, stoptol=1e-5, maxiter=100)\n",
    "x = x.T\n",
    "\n",
    "plt.figure(figsize=(12,8),dpi=300)\n",
    "plt.plot(nsignal, color='b', alpha=0.1, linewidth=1, label='Noisy signal')\n",
    "plt.plot(signal, color='k', alpha=0.8, linewidth=1, label='True signal')\n",
    "for xi, lm in zip(x, lambdas) :\n",
    "    plt.plot(xi, alpha=0.4, label='lambda={}'.format(lm))\n",
    "plt.legend(loc=2)\n",
    "plt.savefig('tvdip.png')\n",
    "plt.show()"
   ]
  },
  {
   "cell_type": "markdown",
   "metadata": {},
   "source": [
    "### Comparison of total variance denoising and moving average"
   ]
  },
  {
   "cell_type": "code",
   "execution_count": null,
   "metadata": {
    "collapsed": false
   },
   "outputs": [],
   "source": [
    "plt.figure(figsize=(12,8),dpi=300)\n",
    "plt.plot(nsignal, color='b', alpha=0.1, linewidth=1, label='Noisy signal')\n",
    "plt.plot(signal, color='k', alpha=0.8, linewidth=2, label='True signal')\n",
    "plt.plot(mov_avgs[-2], alpha=0.8, linewidth=2, label='mov avg w={}'.format(mov_avg_sizes[-2]))\n",
    "plt.plot(x[1], alpha=0.8, linewidth=2, label='TVS, l={}'.format(lambdas[1]))\n",
    "plt.legend(loc=2)\n",
    "plt.savefig('tvdip_movavg_compare.png')\n",
    "plt.show()"
   ]
  },
  {
   "cell_type": "code",
   "execution_count": null,
   "metadata": {
    "collapsed": true
   },
   "outputs": [],
   "source": [
    "#'''Laplace prior median filter'''\n",
    "\n",
    "def fit(x, w, s, a=0.1, b=10.0, numiter=2000) :\n",
    "    '''\n",
    "    paramters:\n",
    "        x - ndarray; sparse signal to be filtered\n",
    "        w - int; must be odd; window width\n",
    "        s - ndarray; laplace prior locations\n",
    "        a - float; strength of MAE vs. LP terms\n",
    "        b - float; spread of laplace prior term\n",
    "        numiter - int (optional); maximum number of search iterations\n",
    "\n",
    "    returns :\n",
    "        m - ndarray; best fit for filtered signal\n",
    "    '''\n",
    "    \n",
    "    def roll_sum(m) :\n",
    "        '''return an array of the cummulative absolute errors for the point\n",
    "        estimate m of x_{w} for each window [x-hw, x+hw]'''\n",
    "        return sum((np.abs(np.roll(x, i) - m) for i in xrange(-hw, hw + 1)))\n",
    "\n",
    "    def get_likelihood(m) :\n",
    "        '''return the negative log likelihood for mae-blp with estimate m\n",
    "        with window size w'''\n",
    "        difs = a * roll_sum(m)\n",
    "        assert(difs.shape == x.shape)\n",
    "        prior = np.exp(-b * np.abs(m[:,None] - s)).sum(axis=1)\n",
    "        assert(prior.shape == x.shape)\n",
    "        return difs - np.log(prior)\n",
    "\n",
    "    def search(starts, stepsize, steps) :\n",
    "        '''return optimal m from grid search given starting position and stepsize'''\n",
    "        opt_ms = starts.copy()\n",
    "        opt_ls = get_likelihood(starts)\n",
    "        assert(opt_ms.shape == x.shape)\n",
    "        assert(opt_ls.shape == x.shape)\n",
    "        for iter in xrange(steps) :\n",
    "            starts += stepsize\n",
    "            ls = get_likelihood(starts)\n",
    "            replace = ls < opt_ls\n",
    "            opt_ms[replace] = starts[replace]\n",
    "        return opt_ms\n",
    "    \n",
    "    assert(w % 2 == 1)\n",
    "    hw = w // 2\n",
    "    x = x.flatten()\n",
    "    s = s.flatten()\n",
    "    \n",
    "    steps = numiter // 2\n",
    "    maxv = max(x.max(), s.max())\n",
    "    minv = min(x.min(), s.min())\n",
    "    print maxv, minv\n",
    "    first_stepsize = (maxv - minv) / steps\n",
    "    first_starts = np.ones(x.shape) * minv\n",
    "    second_stepsize = (first_stepsize * 2) / steps\n",
    "    \n",
    "    # first round, course search\n",
    "    m = search(first_starts, first_stepsize, steps)\n",
    "    # second round, fine search\n",
    "    m = search(m - first_stepsize, second_stepsize, steps)\n",
    "    return m"
   ]
  },
  {
   "cell_type": "code",
   "execution_count": null,
   "metadata": {
    "collapsed": false
   },
   "outputs": [],
   "source": [
    "mflp_sizes = [21]\n",
    "f = mfblp.mfblp_filter(w=9, s=ys, a=0.1, b=10.0)\n",
    "mflp = map(lambda w : mfblp.mfblp_filter(w=45, s=ys, a=0.5, b=10.0).apply(nsignal), mflp_sizes)\n",
    "\n",
    "plt.figure(figsize=(12,8),dpi=300)\n",
    "plt.plot(nsignal, color='b', alpha=0.1, linewidth=1, label='Noisy signal')\n",
    "plt.plot(signal, color='k', alpha=1.0, linewidth=2, label='True signal')\n",
    "for ma, si in zip(mflp, mflp_sizes) :\n",
    "    plt.plot(ma, alpha=0.4, label='w={}'.format(si), c='red')\n",
    "plt.legend(loc=2)\n",
    "plt.savefig('median_filter_laplace_prior.png')\n",
    "\n",
    "plt.show()"
   ]
  },
  {
   "cell_type": "code",
   "execution_count": null,
   "metadata": {
    "collapsed": false
   },
   "outputs": [],
   "source": [
    "x = np.array([1.25, 1.3, 1.3])\n",
    "s = np.array([0.5, 1.0, 1.5])\n",
    "f = mfblp.mfblp_filter(w=3, s=s, a=.1, b=10.0)\n",
    "\n",
    "ms = np.linspace(0, 2, 1000)\n",
    "ls = np.array(map(lambda m: f.get_likelihood(x, m * np.ones(3))[1], ms))\n",
    "\n",
    "plt.plot(ms, ls)\n",
    "plt.show()"
   ]
  },
  {
   "cell_type": "code",
   "execution_count": null,
   "metadata": {
    "collapsed": false
   },
   "outputs": [],
   "source": [
    "m = np.array([0.7, 1.1, 1.4])\n",
    "p = m[:,None] - f.s\n",
    "p = -.01 * np.abs(p)\n",
    "p = np.exp(p).sum(axis=1)\n",
    "p"
   ]
  },
  {
   "cell_type": "code",
   "execution_count": null,
   "metadata": {
    "collapsed": false
   },
   "outputs": [],
   "source": [
    "mflp_sizes = [21]\n",
    "f = mfblp.mfblp_filter(w=9, s=ys, a=0.1, b=10.0)\n",
    "mflp = map(lambda w : mfblp.mfblp_filter(w=45, s=ys, a=0.5, b=10.0).apply_restrict(nsignal), mflp_sizes)\n",
    "\n",
    "plt.figure(figsize=(12,8),dpi=300)\n",
    "plt.plot(nsignal, color='b', alpha=0.1, linewidth=1, label='Noisy signal')\n",
    "plt.plot(signal, color='k', alpha=1.0, linewidth=2, label='True signal')\n",
    "for ma, si in zip(mflp, mflp_sizes) :\n",
    "    plt.plot(ma, alpha=0.4, label='w={}'.format(si), c='red')\n",
    "plt.legend(loc=2)\n",
    "#plt.savefig('median_filter_laplace_prior.png')\n",
    "\n",
    "plt.show()"
   ]
  },
  {
   "cell_type": "code",
   "execution_count": 14,
   "metadata": {
    "collapsed": false
   },
   "outputs": [
    {
     "name": "stdout",
     "output_type": "stream",
     "text": [
      "10 loops, best of 3: 42.2 ms per loop\n",
      "MAE: 0.0126274826276\n"
     ]
    }
   ],
   "source": [
    "f = mfblp.mfblp_filter(w=9, s=ys, a=0.1, b=10.0)\n",
    "\n",
    "%timeit f.apply_restrict(nsignal)\n",
    "\n",
    "mae = np.average(\n",
    "    map(lambda m: np.average(np.abs(m - signal)).sum(), \n",
    "        map(lambda x: f.apply_restrict(nsignal), xrange(20))\n",
    "    )\n",
    ")\n",
    "\n",
    "print('MAE: {}'.format(mae))"
   ]
  },
  {
   "cell_type": "code",
   "execution_count": 15,
   "metadata": {
    "collapsed": false
   },
   "outputs": [
    {
     "name": "stdout",
     "output_type": "stream",
     "text": [
      "10 loops, best of 3: 183 ms per loop\n",
      "MAE: 0.0765747716751\n"
     ]
    }
   ],
   "source": [
    "f = mfblp.mfblp_filter(w=9, s=ys, a=0.1, b=10.0)\n",
    "\n",
    "%timeit f.apply(nsignal)\n",
    "\n",
    "mae = np.average(\n",
    "    map(lambda m: np.average(np.abs(m - signal)).sum(), \n",
    "        map(lambda x: f.apply(nsignal), xrange(20))\n",
    "    )\n",
    ")\n",
    "\n",
    "print('MAE: {}'.format(mae))"
   ]
  },
  {
   "cell_type": "code",
   "execution_count": 8,
   "metadata": {
    "collapsed": false
   },
   "outputs": [
    {
     "data": {
      "text/plain": [
       "0.076574771675118405"
      ]
     },
     "execution_count": 8,
     "metadata": {},
     "output_type": "execute_result"
    }
   ],
   "source": [
    "np.average(map(lambda m: np.average(np.abs(m - signal)).sum(), map(lambda x: f.apply(nsignal), xrange(10))))"
   ]
  },
  {
   "cell_type": "code",
   "execution_count": 9,
   "metadata": {
    "collapsed": false
   },
   "outputs": [
    {
     "data": {
      "text/plain": [
       "0.012627482627560624"
      ]
     },
     "execution_count": 9,
     "metadata": {},
     "output_type": "execute_result"
    }
   ],
   "source": [
    "np.minimum"
   ]
  },
  {
   "cell_type": "code",
   "execution_count": null,
   "metadata": {
    "collapsed": true
   },
   "outputs": [],
   "source": [
    "np.average"
   ]
  }
 ],
 "metadata": {
  "kernelspec": {
   "display_name": "Python 2",
   "language": "python",
   "name": "python2"
  },
  "language_info": {
   "codemirror_mode": {
    "name": "ipython",
    "version": 2
   },
   "file_extension": ".py",
   "mimetype": "text/x-python",
   "name": "python",
   "nbconvert_exporter": "python",
   "pygments_lexer": "ipython2",
   "version": "2.7.10"
  }
 },
 "nbformat": 4,
 "nbformat_minor": 0
}
